{
 "cells": [
  {
   "metadata": {},
   "cell_type": "markdown",
   "source": "# Libs",
   "id": "f620507d86707c63"
  },
  {
   "metadata": {
    "ExecuteTime": {
     "end_time": "2025-02-10T16:36:12.860384Z",
     "start_time": "2025-02-10T16:36:12.853890Z"
    }
   },
   "cell_type": "code",
   "source": [
    "import os\n",
    "import joblib\n",
    "import yfinance as yf\n",
    "import numpy as np\n",
    "import pandas as pd\n",
    "import matplotlib.pyplot as plt\n",
    "from sklearn.preprocessing import MinMaxScaler\n",
    "from sklearn.model_selection import train_test_split\n",
    "from sklearn.metrics import mean_squared_error, mean_absolute_error, r2_score, mean_absolute_percentage_error, explained_variance_score, root_mean_squared_error\n",
    "from tensorflow.keras.models import Sequential\n",
    "from tensorflow.keras.layers import Input, Dense, LSTM, Dropout\n",
    "from IPython.display import clear_output"
   ],
   "id": "6defdcb131e135d9",
   "outputs": [],
   "execution_count": 18
  },
  {
   "metadata": {},
   "cell_type": "markdown",
   "source": "# Code",
   "id": "50d3617bb3e2f558"
  },
  {
   "metadata": {},
   "cell_type": "markdown",
   "source": "## Config",
   "id": "e0484aacc0458f20"
  },
  {
   "metadata": {},
   "cell_type": "code",
   "source": [
    "# YFinace\n",
    "TICKERS = 'DIS'\n",
    "START_DATE = '2000-01-01'\n",
    "END_DATE = '2025-02-01'\n",
    "\n",
    "# Data\n",
    "DAYS = 60\n",
    "TEST_SIZE = 0.2\n",
    "SEED = 42\n",
    "\n",
    "# Model\n",
    "DROPOUT_RATE = 0.2\n",
    "\n",
    "# Train\n",
    "EPOCHS = 50\n",
    "BATCH_SIZE = 32"
   ],
   "id": "5363e767bcdffe9",
   "outputs": [],
   "execution_count": null
  },
  {
   "metadata": {},
   "cell_type": "markdown",
   "source": "## Data",
   "id": "d7c6c21d5a844e5d"
  },
  {
   "metadata": {},
   "cell_type": "code",
   "source": "data = yf.download(tickers=TICKERS, start=START_DATE, end=END_DATE, multi_level_index=False)",
   "id": "1c540668e91df721",
   "outputs": [],
   "execution_count": null
  },
  {
   "metadata": {},
   "cell_type": "code",
   "source": "data.info()",
   "id": "de225dde67c061bc",
   "outputs": [],
   "execution_count": null
  },
  {
   "metadata": {},
   "cell_type": "code",
   "source": "data.head()",
   "id": "28ff5acb54624471",
   "outputs": [],
   "execution_count": null
  },
  {
   "metadata": {},
   "cell_type": "markdown",
   "source": "## Data Pre processor",
   "id": "46adb97ffbb6b921"
  },
  {
   "metadata": {},
   "cell_type": "code",
   "source": [
    "data = data[['Open', 'High', 'Low', 'Volume', 'Close']]\n",
    "\n",
    "scaler = MinMaxScaler(feature_range=(0, 1))\n",
    "data_scaled = scaler.fit_transform(data)\n",
    "\n",
    "x, y = [], []\n",
    "for i in range(len(data_scaled) - DAYS - 1):\n",
    "\tx.append(data_scaled[i:(i + DAYS), :-1])\n",
    "\ty.append(data_scaled[i + DAYS, -1])\n",
    "\n",
    "x, y = np.array(x), np.array(y)\n",
    "x_train, x_test, y_train, y_test = train_test_split(x, y, test_size=TEST_SIZE, random_state=SEED)"
   ],
   "id": "31a4baf3de0c27a6",
   "outputs": [],
   "execution_count": null
  },
  {
   "metadata": {},
   "cell_type": "markdown",
   "source": "## Model",
   "id": "e6b72e265a8a135c"
  },
  {
   "metadata": {},
   "cell_type": "code",
   "source": [
    "model = Sequential()\n",
    "model.add(Input(shape=(DAYS, x_train.shape[2])))\n",
    "model.add(LSTM(units=50, return_sequences=True))\n",
    "model.add(Dropout(DROPOUT_RATE))\n",
    "model.add(LSTM(units=50, return_sequences=False))\n",
    "model.add(Dropout(DROPOUT_RATE))\n",
    "model.add(Dense(units=25, activation='relu'))\n",
    "model.add(Dense(units=1))\n",
    "model.compile(optimizer='adam', loss='mean_squared_error')"
   ],
   "id": "3b40139040c8519a",
   "outputs": [],
   "execution_count": null
  },
  {
   "metadata": {},
   "cell_type": "markdown",
   "source": "## Train",
   "id": "cefbbb0080e89843"
  },
  {
   "metadata": {},
   "cell_type": "code",
   "source": "history = model.fit(x_train, y_train, epochs=EPOCHS, batch_size=BATCH_SIZE, validation_data=(x_test, y_test))",
   "id": "b2d6d9ab562880e7",
   "outputs": [],
   "execution_count": null
  },
  {
   "metadata": {},
   "cell_type": "markdown",
   "source": "## Predict",
   "id": "bba33ef0447254fa"
  },
  {
   "metadata": {},
   "cell_type": "code",
   "source": "predictions = model.predict(x_test)",
   "id": "1a447d698f91b048",
   "outputs": [],
   "execution_count": null
  },
  {
   "metadata": {},
   "cell_type": "code",
   "source": [
    "predictions_aux = np.zeros((len(predictions), data.shape[1]))\n",
    "predictions_aux[:, -1] = predictions.flatten()\n",
    "predictions_real = scaler.inverse_transform(predictions_aux)[:,-1]\n",
    "\n",
    "y_test_aux = np.zeros((len(predictions), data.shape[1]))\n",
    "y_test_aux[:, -1] = y_test\n",
    "y_test_real = scaler.inverse_transform(y_test_aux)[:,-1]"
   ],
   "id": "9f777355331c32cd",
   "outputs": [],
   "execution_count": null
  },
  {
   "metadata": {},
   "cell_type": "markdown",
   "source": "## Metrics",
   "id": "b747d920225e028e"
  },
  {
   "metadata": {},
   "cell_type": "code",
   "source": [
    "mse = mean_squared_error(y_test_real, predictions_real)\n",
    "mae = mean_absolute_error(y_test_real, predictions_real)\n",
    "r2 = r2_score(y_test_real, predictions_real)\n",
    "mape = mean_absolute_percentage_error(y_test_real, predictions_real)\n",
    "ev_score = explained_variance_score(y_test_real, predictions_real)\n",
    "rmse = root_mean_squared_error(y_test_real, predictions_real)\n",
    "\n",
    "print(f'MAE: {mae}')\n",
    "print(f'MAPE: {mape}%')\n",
    "print(f'RMSE: {rmse}')\n",
    "print(f'MSE: {mse}')\n",
    "print(f'R2: {r2}')\n",
    "print(f'EV: {ev_score}')\n",
    "\n",
    "with open('metrics/score.txt', 'w') as file:\n",
    "\tfile.write(f'Mean Absolute Error(MAE): {mae}\\n')\n",
    "\tfile.write(f'Mean Absolute Percentage Error(MAPE): {mape}%\\n')\n",
    "\tfile.write(f'Root Mean Squared Error(RMSE): {rmse}\\n')\n",
    "\tfile.write(f'Mean Squared Error(MSE): {mse}\\n')\n",
    "\tfile.write(f'R2: {r2}\\n')\n",
    "\tfile.write(f'EV: {ev_score}')"
   ],
   "id": "3688dde9276f734",
   "outputs": [],
   "execution_count": null
  },
  {
   "metadata": {},
   "cell_type": "code",
   "source": [
    "plt.figure(figsize=(20, 10))\n",
    "plt.plot(y_test_real, color='blue', label='real value')\n",
    "plt.plot(predictions_real, color='red', label='predicted value')\n",
    "plt.title('Predicted vs. real value')\n",
    "plt.xlabel('Days')\n",
    "plt.ylabel('Price')\n",
    "plt.legend()\n",
    "plt.savefig('./metrics/real_vs_predicted.png')\n",
    "plt.show()"
   ],
   "id": "d5bfb9fcd91111bc",
   "outputs": [],
   "execution_count": null
  },
  {
   "metadata": {},
   "cell_type": "code",
   "source": [
    "plt.figure(figsize=(20, 10))\n",
    "plt.scatter(y_test_real, predictions_real, alpha=0.5)\n",
    "plt.plot([min(y_test_real), max(y_test_real)], [min(y_test_real), max(y_test_real)], color='red', linestyle='--')\n",
    "plt.title(f'Comparison between Actual Values and Predictions')\n",
    "plt.xlabel('Actual Values')\n",
    "plt.ylabel('Predict')\n",
    "plt.grid(True)\n",
    "plt.savefig('./metrics/scatter.png')\n",
    "plt.show()"
   ],
   "id": "ca66252f62564090",
   "outputs": [],
   "execution_count": null
  },
  {
   "metadata": {},
   "cell_type": "markdown",
   "source": "## Save model",
   "id": "917ad604c71f31b9"
  },
  {
   "metadata": {},
   "cell_type": "code",
   "source": [
    "model.save('model.keras')\n",
    "joblib.dump(scaler, 'scaler.gz')"
   ],
   "id": "9e2017999fb9cde8",
   "outputs": [],
   "execution_count": null
  },
  {
   "metadata": {},
   "cell_type": "markdown",
   "source": "# Update README",
   "id": "f8c18ad0d42f622c"
  },
  {
   "metadata": {},
   "cell_type": "code",
   "source": [
    "txt_file_path = \"metrics/score.txt\"\n",
    "readme_path = \"../README.md\"\n",
    "\n",
    "with open(txt_file_path, \"r\", encoding=\"utf-8\") as file:\n",
    "    content = file.read()\n",
    "\n",
    "with open(readme_path, \"r\", encoding=\"utf-8\") as file:\n",
    "    readme_content = file.read()\n",
    "\n",
    "start_marker = \"<!-- START_SCORE -->\"\n",
    "end_marker = \"<!-- END_SCORE -->\"\n",
    "new_section = f\"{start_marker}\\n```\\n{content}\\n```\\n{end_marker}\"\n",
    "\n",
    "if start_marker in readme_content and end_marker in readme_content:\n",
    "    updated_readme = readme_content.replace(\n",
    "        readme_content[readme_content.find(start_marker):readme_content.find(end_marker) + len(end_marker)],\n",
    "        new_section\n",
    "    )\n",
    "else:\n",
    "    updated_readme = readme_content + \"\\n\" + new_section\n",
    "\n",
    "with open(readme_path, \"w\", encoding=\"utf-8\") as file:\n",
    "    file.write(updated_readme)\n",
    "\n",
    "print(\"README updated successfully\")"
   ],
   "id": "244fa29deded6e94",
   "outputs": [],
   "execution_count": null
  },
  {
   "metadata": {
    "ExecuteTime": {
     "end_time": "2025-02-10T16:36:19.650976Z",
     "start_time": "2025-02-10T16:36:19.633565Z"
    }
   },
   "cell_type": "code",
   "source": "clear_output(wait=True)",
   "id": "da6003aa8245931a",
   "outputs": [],
   "execution_count": 19
  }
 ],
 "metadata": {
  "kernelspec": {
   "display_name": "Python 3",
   "language": "python",
   "name": "python3"
  },
  "language_info": {
   "codemirror_mode": {
    "name": "ipython",
    "version": 2
   },
   "file_extension": ".py",
   "mimetype": "text/x-python",
   "name": "python",
   "nbconvert_exporter": "python",
   "pygments_lexer": "ipython2",
   "version": "2.7.6"
  }
 },
 "nbformat": 4,
 "nbformat_minor": 5
}
